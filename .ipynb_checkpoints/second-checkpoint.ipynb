{
 "cells": [
  {
   "cell_type": "code",
   "execution_count": 1,
   "metadata": {},
   "outputs": [
    {
     "data": {
      "text/plain": [
       "True"
      ]
     },
     "execution_count": 1,
     "metadata": {},
     "output_type": "execute_result"
    }
   ],
   "source": [
    "dna=\"ATGCTTACAAAAATTTTTTTTTGGGGGCCCCCTAATTGTTAATTTCCCGAAATGCTTACGGGAATTGCCATAT\"\n",
    "\"A\" in dna\n"
   ]
  },
  {
   "cell_type": "code",
   "execution_count": 2,
   "metadata": {},
   "outputs": [
    {
     "data": {
      "text/plain": [
       "19"
      ]
     },
     "execution_count": 2,
     "metadata": {},
     "output_type": "execute_result"
    }
   ],
   "source": [
    "dna.count('A')"
   ]
  },
  {
   "cell_type": "code",
   "execution_count": 4,
   "metadata": {},
   "outputs": [
    {
     "name": "stdout",
     "output_type": "stream",
     "text": [
      "The number of Adenine, Guanine, Cytosine,and Thymine are \n",
      " 19, 13, 14, 27 respectively : \n"
     ]
    }
   ],
   "source": [
    "a_count=dna.count(\"A\")\n",
    "g_count=dna.count(\"G\")\n",
    "c_count=dna.count(\"C\")\n",
    "t_count=dna.count(\"T\")\n",
    "print(\"The number of Adenine, Guanine, Cytosine,and Thymine are \\n {0}, {1}, {2}, {3} respectively : \".format(a_count,g_count,c_count,t_count))"
   ]
  },
  {
   "cell_type": "markdown",
   "metadata": {},
   "source": [
    "### Getting Guanine,Cytosine Percentage"
   ]
  },
  {
   "cell_type": "code",
   "execution_count": 30,
   "metadata": {},
   "outputs": [
    {
     "name": "stdout",
     "output_type": "stream",
     "text": [
      "The Guanine-Cytosine Content is : 36.986301369863014 %\n",
      "The Guanine Cytosine content is 36.986301 %\n",
      "36.99\n"
     ]
    }
   ],
   "source": [
    "gc_count=g_count+c_count\n",
    "length=len(dna)\n",
    "per=((gc_count)/(length))*100\n",
    "print(\"The Guanine-Cytosine Content is :\",per,\"%\")\n",
    "print(\"The Guanine Cytosine content is {0:1f} %\".format(per))\n"
   ]
  },
  {
   "cell_type": "code",
   "execution_count": 18,
   "metadata": {},
   "outputs": [
    {
     "data": {
      "text/plain": [
       "'ATTTGGGGAATATATAGATAGATAGATAGATAGATCCCTAATCATACATCATCATCATTTTTATATATATATATATTATTAACCCTCTCTATACATACTACTATACTACTCATACTAC'"
      ]
     },
     "execution_count": 18,
     "metadata": {},
     "output_type": "execute_result"
    }
   ],
   "source": [
    "dna1='ATTTGGGGAATATATAGATAGATAGATAGATAGATCCCTAATCATACATCATCATCAT'\n",
    "dna2='TTTTATATATATATATATTATTAACCCTCTCTATACATACTACTATACTACTCATACTAC'\n",
    "dna3=dna1+dna2\n",
    "dna3"
   ]
  },
  {
   "cell_type": "code",
   "execution_count": 19,
   "metadata": {},
   "outputs": [
    {
     "name": "stdout",
     "output_type": "stream",
     "text": [
      "ATGCTTACAAAAATTTTTTTTTGGGGGCCCCCTAATTGTTAATTTCCCGAAATGCTTACGGGAATTGCCATAT ATTTGGGGAATATATAGATAGATAGATAGATAGATCCCTAATCATACATCATCATCATTTTTATATATATATATATTATTAACCCTCTCTATACATACTACTATACTACTCATACTAC\n"
     ]
    }
   ],
   "source": [
    "print(\"%s %s\"%(dna,dna3))"
   ]
  },
  {
   "cell_type": "markdown",
   "metadata": {},
   "source": [
    "### Assignment 1\n",
    "### Consider the dna sequence AGTTAGCTAGGAG\n",
    "#### How many nucleotides are present\n",
    "#### Calculate the percentage of GC in the sequence\n",
    "#### How many purines are present\n",
    "#### How many pyrimidines are present\n",
    "#### Calculate the percentage of purines in the sequence \n"
   ]
  },
  {
   "cell_type": "code",
   "execution_count": 20,
   "metadata": {},
   "outputs": [
    {
     "name": "stdout",
     "output_type": "stream",
     "text": [
      "The number of nucleotides present are: 13\n"
     ]
    }
   ],
   "source": [
    "# Number of Nucleotides present\n",
    "nucl=\"AGTTAGCTAGGAG\"\n",
    "print(\"The number of nucleotides present are:\",len(nucl))"
   ]
  },
  {
   "cell_type": "code",
   "execution_count": 23,
   "metadata": {},
   "outputs": [
    {
     "name": "stdout",
     "output_type": "stream",
     "text": [
      "The GC content percentage is 46.15384615384615 %\n"
     ]
    }
   ],
   "source": [
    "##Getting the percentage of GC content \n",
    "a=nucl.count(\"A\"); g=nucl.count(\"G\"); c=nucl.count(\"C\");t=nucl.count(\"T\")\n",
    "g_c=g+c\n",
    "print(\"The GC content percentage is\", (g_c/len(nucl))*100,\"%\")"
   ]
  },
  {
   "cell_type": "code",
   "execution_count": 28,
   "metadata": {},
   "outputs": [
    {
     "name": "stdout",
     "output_type": "stream",
     "text": [
      "The number of purines present are : 5\n",
      "The number of pyrimidines present are : 4\n",
      "The percentage of purines present is  38 2\n"
     ]
    }
   ],
   "source": [
    "##Purine Content\n",
    "a_g=a+c\n",
    "t_c=t+c\n",
    "print(\"The number of purines present are :\",a_g)\n",
    "print(\"The number of pyrimidines present are :\",t_c)\n",
    "print(\"The percentage of purines present is \",round((a_g/len(nucl))*100),2)"
   ]
  },
  {
   "cell_type": "code",
   "execution_count": null,
   "metadata": {},
   "outputs": [],
   "source": []
  }
 ],
 "metadata": {
  "kernelspec": {
   "display_name": "Python 3 (ipykernel)",
   "language": "python",
   "name": "python3"
  },
  "language_info": {
   "codemirror_mode": {
    "name": "ipython",
    "version": 3
   },
   "file_extension": ".py",
   "mimetype": "text/x-python",
   "name": "python",
   "nbconvert_exporter": "python",
   "pygments_lexer": "ipython3",
   "version": "3.7.11"
  },
  "vscode": {
   "interpreter": {
    "hash": "29a6ce951ee920c92b51fb2b0884e1ad9f15db4d8c37127791fd878d2d77f709"
   }
  }
 },
 "nbformat": 4,
 "nbformat_minor": 2
}
