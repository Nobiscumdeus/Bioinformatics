{
 "cells": [
  {
   "cell_type": "code",
   "execution_count": null,
   "metadata": {},
   "outputs": [],
   "source": []
  },
  {
   "cell_type": "code",
   "execution_count": null,
   "metadata": {},
   "outputs": [],
   "source": []
  },
  {
   "cell_type": "code",
   "execution_count": null,
   "metadata": {},
   "outputs": [],
   "source": []
  },
  {
   "cell_type": "code",
   "execution_count": null,
   "metadata": {},
   "outputs": [],
   "source": []
  },
  {
   "cell_type": "code",
   "execution_count": null,
   "metadata": {},
   "outputs": [],
   "source": []
  },
  {
   "cell_type": "code",
   "execution_count": null,
   "metadata": {},
   "outputs": [],
   "source": []
  },
  {
   "cell_type": "code",
   "execution_count": null,
   "metadata": {},
   "outputs": [],
   "source": []
  },
  {
   "cell_type": "markdown",
   "metadata": {},
   "source": []
  },
  {
   "cell_type": "code",
   "execution_count": null,
   "metadata": {},
   "outputs": [],
   "source": []
  },
  {
   "cell_type": "code",
   "execution_count": null,
   "metadata": {},
   "outputs": [],
   "source": []
  },
  {
   "cell_type": "code",
   "execution_count": null,
   "metadata": {},
   "outputs": [],
   "source": []
  },
  {
   "cell_type": "code",
   "execution_count": null,
   "metadata": {},
   "outputs": [],
   "source": []
  },
  {
   "cell_type": "code",
   "execution_count": null,
   "metadata": {},
   "outputs": [],
   "source": []
  },
  {
   "cell_type": "code",
   "execution_count": null,
   "metadata": {},
   "outputs": [],
   "source": []
  },
  {
   "cell_type": "code",
   "execution_count": 9,
   "metadata": {},
   "outputs": [],
   "source": [
    "import pandas as pd"
   ]
  },
  {
   "cell_type": "code",
   "execution_count": null,
   "metadata": {},
   "outputs": [],
   "source": []
  },
  {
   "cell_type": "code",
   "execution_count": null,
   "metadata": {},
   "outputs": [],
   "source": []
  },
  {
   "cell_type": "code",
   "execution_count": null,
   "metadata": {},
   "outputs": [],
   "source": []
  },
  {
   "cell_type": "code",
   "execution_count": null,
   "metadata": {},
   "outputs": [],
   "source": []
  },
  {
   "cell_type": "code",
   "execution_count": null,
   "metadata": {},
   "outputs": [],
   "source": []
  },
  {
   "cell_type": "code",
   "execution_count": null,
   "metadata": {},
   "outputs": [],
   "source": []
  },
  {
   "cell_type": "code",
   "execution_count": null,
   "metadata": {},
   "outputs": [],
   "source": []
  },
  {
   "cell_type": "code",
   "execution_count": null,
   "metadata": {},
   "outputs": [],
   "source": []
  },
  {
   "cell_type": "code",
   "execution_count": null,
   "metadata": {},
   "outputs": [],
   "source": []
  },
  {
   "cell_type": "code",
   "execution_count": null,
   "metadata": {},
   "outputs": [],
   "source": []
  },
  {
   "cell_type": "code",
   "execution_count": null,
   "metadata": {},
   "outputs": [],
   "source": []
  },
  {
   "cell_type": "code",
   "execution_count": null,
   "metadata": {},
   "outputs": [],
   "source": []
  },
  {
   "cell_type": "code",
   "execution_count": null,
   "metadata": {},
   "outputs": [],
   "source": []
  },
  {
   "cell_type": "code",
   "execution_count": null,
   "metadata": {},
   "outputs": [],
   "source": []
  },
  {
   "cell_type": "code",
   "execution_count": 4,
   "metadata": {},
   "outputs": [],
   "source": [
    "from chembl_webresource_client.new_client import new_client"
   ]
  },
  {
   "cell_type": "code",
   "execution_count": 10,
   "metadata": {},
   "outputs": [],
   "source": [
    "target=new_client.target\n",
    "target_query=target.search('coronavirus')\n",
    "targets=pd.DataFrame.from_dict(target_query)\n",
    "targets.head()\n",
    "oyindamola=targets.copy()"
   ]
  },
  {
   "cell_type": "code",
   "execution_count": 11,
   "metadata": {},
   "outputs": [
    {
     "data": {
      "text/html": [
       "<div>\n",
       "<style scoped>\n",
       "    .dataframe tbody tr th:only-of-type {\n",
       "        vertical-align: middle;\n",
       "    }\n",
       "\n",
       "    .dataframe tbody tr th {\n",
       "        vertical-align: top;\n",
       "    }\n",
       "\n",
       "    .dataframe thead th {\n",
       "        text-align: right;\n",
       "    }\n",
       "</style>\n",
       "<table border=\"1\" class=\"dataframe\">\n",
       "  <thead>\n",
       "    <tr style=\"text-align: right;\">\n",
       "      <th></th>\n",
       "      <th>cross_references</th>\n",
       "      <th>organism</th>\n",
       "      <th>pref_name</th>\n",
       "      <th>score</th>\n",
       "      <th>species_group_flag</th>\n",
       "      <th>target_chembl_id</th>\n",
       "      <th>target_components</th>\n",
       "      <th>target_type</th>\n",
       "      <th>tax_id</th>\n",
       "    </tr>\n",
       "  </thead>\n",
       "  <tbody>\n",
       "    <tr>\n",
       "      <th>0</th>\n",
       "      <td>[]</td>\n",
       "      <td>Coronavirus</td>\n",
       "      <td>Coronavirus</td>\n",
       "      <td>17.0</td>\n",
       "      <td>False</td>\n",
       "      <td>CHEMBL613732</td>\n",
       "      <td>[]</td>\n",
       "      <td>ORGANISM</td>\n",
       "      <td>11119</td>\n",
       "    </tr>\n",
       "    <tr>\n",
       "      <th>1</th>\n",
       "      <td>[]</td>\n",
       "      <td>SARS coronavirus</td>\n",
       "      <td>SARS coronavirus</td>\n",
       "      <td>15.0</td>\n",
       "      <td>False</td>\n",
       "      <td>CHEMBL612575</td>\n",
       "      <td>[]</td>\n",
       "      <td>ORGANISM</td>\n",
       "      <td>227859</td>\n",
       "    </tr>\n",
       "    <tr>\n",
       "      <th>2</th>\n",
       "      <td>[]</td>\n",
       "      <td>Feline coronavirus</td>\n",
       "      <td>Feline coronavirus</td>\n",
       "      <td>15.0</td>\n",
       "      <td>False</td>\n",
       "      <td>CHEMBL612744</td>\n",
       "      <td>[]</td>\n",
       "      <td>ORGANISM</td>\n",
       "      <td>12663</td>\n",
       "    </tr>\n",
       "    <tr>\n",
       "      <th>3</th>\n",
       "      <td>[]</td>\n",
       "      <td>Human coronavirus 229E</td>\n",
       "      <td>Human coronavirus 229E</td>\n",
       "      <td>13.0</td>\n",
       "      <td>False</td>\n",
       "      <td>CHEMBL613837</td>\n",
       "      <td>[]</td>\n",
       "      <td>ORGANISM</td>\n",
       "      <td>11137</td>\n",
       "    </tr>\n",
       "    <tr>\n",
       "      <th>4</th>\n",
       "      <td>[{'xref_id': 'P0C6U8', 'xref_name': None, 'xre...</td>\n",
       "      <td>SARS coronavirus</td>\n",
       "      <td>SARS coronavirus 3C-like proteinase</td>\n",
       "      <td>10.0</td>\n",
       "      <td>False</td>\n",
       "      <td>CHEMBL3927</td>\n",
       "      <td>[{'accession': 'P0C6U8', 'component_descriptio...</td>\n",
       "      <td>SINGLE PROTEIN</td>\n",
       "      <td>227859</td>\n",
       "    </tr>\n",
       "    <tr>\n",
       "      <th>5</th>\n",
       "      <td>[]</td>\n",
       "      <td>Middle East respiratory syndrome-related coron...</td>\n",
       "      <td>Middle East respiratory syndrome-related coron...</td>\n",
       "      <td>9.0</td>\n",
       "      <td>False</td>\n",
       "      <td>CHEMBL4296578</td>\n",
       "      <td>[]</td>\n",
       "      <td>ORGANISM</td>\n",
       "      <td>1335626</td>\n",
       "    </tr>\n",
       "    <tr>\n",
       "      <th>6</th>\n",
       "      <td>[{'xref_id': 'P0C6X7', 'xref_name': None, 'xre...</td>\n",
       "      <td>SARS coronavirus</td>\n",
       "      <td>Replicase polyprotein 1ab</td>\n",
       "      <td>4.0</td>\n",
       "      <td>False</td>\n",
       "      <td>CHEMBL5118</td>\n",
       "      <td>[{'accession': 'P0C6X7', 'component_descriptio...</td>\n",
       "      <td>SINGLE PROTEIN</td>\n",
       "      <td>227859</td>\n",
       "    </tr>\n",
       "  </tbody>\n",
       "</table>\n",
       "</div>"
      ],
      "text/plain": [
       "                                    cross_references  \\\n",
       "0                                                 []   \n",
       "1                                                 []   \n",
       "2                                                 []   \n",
       "3                                                 []   \n",
       "4  [{'xref_id': 'P0C6U8', 'xref_name': None, 'xre...   \n",
       "5                                                 []   \n",
       "6  [{'xref_id': 'P0C6X7', 'xref_name': None, 'xre...   \n",
       "\n",
       "                                            organism  \\\n",
       "0                                        Coronavirus   \n",
       "1                                   SARS coronavirus   \n",
       "2                                 Feline coronavirus   \n",
       "3                             Human coronavirus 229E   \n",
       "4                                   SARS coronavirus   \n",
       "5  Middle East respiratory syndrome-related coron...   \n",
       "6                                   SARS coronavirus   \n",
       "\n",
       "                                           pref_name  score  \\\n",
       "0                                        Coronavirus   17.0   \n",
       "1                                   SARS coronavirus   15.0   \n",
       "2                                 Feline coronavirus   15.0   \n",
       "3                             Human coronavirus 229E   13.0   \n",
       "4                SARS coronavirus 3C-like proteinase   10.0   \n",
       "5  Middle East respiratory syndrome-related coron...    9.0   \n",
       "6                          Replicase polyprotein 1ab    4.0   \n",
       "\n",
       "   species_group_flag target_chembl_id  \\\n",
       "0               False     CHEMBL613732   \n",
       "1               False     CHEMBL612575   \n",
       "2               False     CHEMBL612744   \n",
       "3               False     CHEMBL613837   \n",
       "4               False       CHEMBL3927   \n",
       "5               False    CHEMBL4296578   \n",
       "6               False       CHEMBL5118   \n",
       "\n",
       "                                   target_components     target_type   tax_id  \n",
       "0                                                 []        ORGANISM    11119  \n",
       "1                                                 []        ORGANISM   227859  \n",
       "2                                                 []        ORGANISM    12663  \n",
       "3                                                 []        ORGANISM    11137  \n",
       "4  [{'accession': 'P0C6U8', 'component_descriptio...  SINGLE PROTEIN   227859  \n",
       "5                                                 []        ORGANISM  1335626  \n",
       "6  [{'accession': 'P0C6X7', 'component_descriptio...  SINGLE PROTEIN   227859  "
      ]
     },
     "execution_count": 11,
     "metadata": {},
     "output_type": "execute_result"
    }
   ],
   "source": [
    "oyindamola.head(n=7)"
   ]
  }
 ],
 "metadata": {
  "kernelspec": {
   "display_name": "Python 3.10.8 ('bioinformatic': venv)",
   "language": "python",
   "name": "python3"
  },
  "language_info": {
   "codemirror_mode": {
    "name": "ipython",
    "version": 3
   },
   "file_extension": ".py",
   "mimetype": "text/x-python",
   "name": "python",
   "nbconvert_exporter": "python",
   "pygments_lexer": "ipython3",
   "version": "3.10.8"
  },
  "orig_nbformat": 4,
  "vscode": {
   "interpreter": {
    "hash": "0d63a5421e2754300244493e7430b19b3f164f69c6563616c8d286140c1b3463"
   }
  }
 },
 "nbformat": 4,
 "nbformat_minor": 2
}
