{
 "cells": [
  {
   "cell_type": "code",
   "execution_count": 1,
   "metadata": {},
   "outputs": [
    {
     "data": {
      "text/plain": [
       "True"
      ]
     },
     "execution_count": 1,
     "metadata": {},
     "output_type": "execute_result"
    }
   ],
   "source": [
    "dna=\"ATGCTTACAAAAATTTTTTTTTGGGGGCCCCCTAATTGTTAATTTCCCGAAATGCTTACGGGAATTGCCATAT\"\n",
    "\"A\" in dna\n"
   ]
  },
  {
   "cell_type": "code",
   "execution_count": 2,
   "metadata": {},
   "outputs": [
    {
     "data": {
      "text/plain": [
       "19"
      ]
     },
     "execution_count": 2,
     "metadata": {},
     "output_type": "execute_result"
    }
   ],
   "source": [
    "dna.count('A')"
   ]
  },
  {
   "cell_type": "code",
   "execution_count": 4,
   "metadata": {},
   "outputs": [
    {
     "name": "stdout",
     "output_type": "stream",
     "text": [
      "The number of Adenine, Guanine, Cytosine,and Thymine are \n",
      " 19, 13, 14, 27 respectively : \n"
     ]
    }
   ],
   "source": [
    "a_count=dna.count(\"A\")\n",
    "g_count=dna.count(\"G\")\n",
    "c_count=dna.count(\"C\")\n",
    "t_count=dna.count(\"T\")\n",
    "print(\"The number of Adenine, Guanine, Cytosine,and Thymine are \\n {0}, {1}, {2}, {3} respectively : \".format(a_count,g_count,c_count,t_count))"
   ]
  },
  {
   "cell_type": "markdown",
   "metadata": {},
   "source": [
    "### Getting Guanine,Cytosine Percentage"
   ]
  },
  {
   "cell_type": "code",
   "execution_count": 30,
   "metadata": {},
   "outputs": [
    {
     "name": "stdout",
     "output_type": "stream",
     "text": [
      "The Guanine-Cytosine Content is : 36.986301369863014 %\n",
      "The Guanine Cytosine content is 36.986301 %\n",
      "36.99\n"
     ]
    }
   ],
   "source": [
    "gc_count=g_count+c_count\n",
    "length=len(dna)\n",
    "per=((gc_count)/(length))*100\n",
    "print(\"The Guanine-Cytosine Content is :\",per,\"%\")\n",
    "print(\"The Guanine Cytosine content is {0:1f} %\".format(per))\n"
   ]
  },
  {
   "cell_type": "code",
   "execution_count": 82,
   "metadata": {},
   "outputs": [],
   "source": [
    "def percentage_gc():\n",
    "    from string import ascii_uppercase\n",
    "    sequence=input(\"Enter your value\")\n",
    "    for c in ascii_uppercase:\n",
    "        if((c=='A')| (c=='G')| (c=='C')| (c=='T')):\n",
    "            pass\n",
    "        else:\n",
    "            k=c\n",
    "           \n",
    "            \n",
    "            \n",
    "    \n",
    "    \n",
    "    dna=sequence.upper()\n",
    "    \n",
    "    if(k in dna):\n",
    "            return 'Sorry, there are some wrong letters in your dna content, please kindly correct!!!'\n",
    "            \n",
    "    else: \n",
    "        g_count=dna.count('G')\n",
    "        a_count=dna.count('A')\n",
    "        t_count=dna.count('T')\n",
    "        c_count=dna.count('C')\n",
    "        gc_count=g_count+c_count\n",
    "        length=len(dna)\n",
    "        per=((gc_count)/(length))*100\n",
    "    \n",
    "        print(\"The Percentage of the guanine-cytosine is : \",round(per,2),\"%\")\n"
   ]
  },
  {
   "cell_type": "code",
   "execution_count": 83,
   "metadata": {},
   "outputs": [
    {
     "name": "stdout",
     "output_type": "stream",
     "text": [
      "The Percentage of the guanine-cytosine is :  0.0 %\n"
     ]
    }
   ],
   "source": [
    "percentage_gc()"
   ]
  },
  {
   "cell_type": "code",
   "execution_count": 48,
   "metadata": {},
   "outputs": [],
   "source": [
    "import numpy as np\n",
    "from string import ascii_uppercase\n",
    "for c in 'ABCDEFGHIJKLMNOPQRSTUVWXYZ':\n",
    "    if ((c=='A')|(c=='G')|(c=='C')|(c=='T')):\n",
    "        pass\n",
    "    else:\n",
    "       break\n",
    "     \n",
    "        \n",
    "        \n",
    "        "
   ]
  },
  {
   "cell_type": "code",
   "execution_count": null,
   "metadata": {},
   "outputs": [],
   "source": [
    "import pandas as pd\n",
    "\n",
    "\n",
    "\n",
    "        "
   ]
  },
  {
   "cell_type": "code",
   "execution_count": 18,
   "metadata": {},
   "outputs": [
    {
     "data": {
      "text/plain": [
       "'ATTTGGGGAATATATAGATAGATAGATAGATAGATCCCTAATCATACATCATCATCATTTTTATATATATATATATTATTAACCCTCTCTATACATACTACTATACTACTCATACTAC'"
      ]
     },
     "execution_count": 18,
     "metadata": {},
     "output_type": "execute_result"
    }
   ],
   "source": [
    "dna1='ATTTGGGGAATATATAGATAGATAGATAGATAGATCCCTAATCATACATCATCATCAT'\n",
    "dna2='TTTTATATATATATATATTATTAACCCTCTCTATACATACTACTATACTACTCATACTAC'\n",
    "dna3=dna1+dna2\n",
    "dna3"
   ]
  },
  {
   "cell_type": "code",
   "execution_count": 19,
   "metadata": {},
   "outputs": [
    {
     "name": "stdout",
     "output_type": "stream",
     "text": [
      "ATGCTTACAAAAATTTTTTTTTGGGGGCCCCCTAATTGTTAATTTCCCGAAATGCTTACGGGAATTGCCATAT ATTTGGGGAATATATAGATAGATAGATAGATAGATCCCTAATCATACATCATCATCATTTTTATATATATATATATTATTAACCCTCTCTATACATACTACTATACTACTCATACTAC\n"
     ]
    }
   ],
   "source": [
    "print(\"%s %s\"%(dna,dna3))"
   ]
  },
  {
   "cell_type": "code",
   "execution_count": 1,
   "metadata": {},
   "outputs": [
    {
     "name": "stdout",
     "output_type": "stream",
     "text": [
      "BDEFHIJKLMNOPQRSUVWXYZ"
     ]
    }
   ],
   "source": [
    "\n",
    "from string import ascii_uppercase\n",
    "for c in ascii_uppercase:\n",
    "     if ((c=='A')|(c=='G')|(c=='C')|(c=='T')):\n",
    "        pass\n",
    "     else:\n",
    "         #f=c.replace(\"\\n\",\"\")\n",
    "         #print(f)\n",
    "         print(c,end=\"\")\n",
    "         \n",
    "         \n",
    "   \n",
    "\n",
    "            \n",
    "    "
   ]
  },
  {
   "cell_type": "code",
   "execution_count": 67,
   "metadata": {},
   "outputs": [
    {
     "data": {
      "text/plain": [
       "str"
      ]
     },
     "execution_count": 67,
     "metadata": {},
     "output_type": "execute_result"
    }
   ],
   "source": [
    "me=\"solademi\"\n",
    "type(me)"
   ]
  },
  {
   "cell_type": "code",
   "execution_count": null,
   "metadata": {},
   "outputs": [],
   "source": []
  },
  {
   "cell_type": "code",
   "execution_count": 14,
   "metadata": {},
   "outputs": [
    {
     "name": "stdout",
     "output_type": "stream",
     "text": [
      "5 * 0 = 0\n",
      "5 * 1 = 5\n",
      "5 * 2 = 10\n",
      "5 * 3 = 15\n",
      "5 * 4 = 20\n",
      "5 * 5 = 25\n",
      "5 * 6 = 30\n",
      "5 * 7 = 35\n",
      "5 * 8 = 40\n",
      "5 * 9 = 45\n",
      "5 * 10 = 50\n",
      "5 * 11 = 55\n",
      "5 * 12 = 60\n"
     ]
    }
   ],
   "source": [
    "#Multiplication table of 5\n",
    "for i in range(0,13):\n",
    "    k=5\n",
    "    print(k, \"*\", i, \"=\",k*i)"
   ]
  },
  {
   "cell_type": "code",
   "execution_count": null,
   "metadata": {},
   "outputs": [],
   "source": []
  },
  {
   "cell_type": "code",
   "execution_count": null,
   "metadata": {},
   "outputs": [],
   "source": []
  },
  {
   "cell_type": "markdown",
   "metadata": {},
   "source": [
    "### Assignment 1\n",
    "### Consider the dna sequence AGTTAGCTAGGAG\n",
    "#### How many nucleotides are present\n",
    "#### Calculate the percentage of GC in the sequence\n",
    "#### How many purines are present\n",
    "#### How many pyrimidines are present\n",
    "#### Calculate the percentage of purines in the sequence \n"
   ]
  },
  {
   "cell_type": "code",
   "execution_count": 20,
   "metadata": {},
   "outputs": [
    {
     "name": "stdout",
     "output_type": "stream",
     "text": [
      "The number of nucleotides present are: 13\n"
     ]
    }
   ],
   "source": [
    "# Number of Nucleotides present\n",
    "nucl=\"AGTTAGCTAGGAG\"\n",
    "print(\"The number of nucleotides present are:\",len(nucl))"
   ]
  },
  {
   "cell_type": "code",
   "execution_count": 23,
   "metadata": {},
   "outputs": [
    {
     "name": "stdout",
     "output_type": "stream",
     "text": [
      "The GC content percentage is 46.15384615384615 %\n"
     ]
    }
   ],
   "source": [
    "##Getting the percentage of GC content \n",
    "a=nucl.count(\"A\"); g=nucl.count(\"G\"); c=nucl.count(\"C\");t=nucl.count(\"T\")\n",
    "g_c=g+c\n",
    "print(\"The GC content percentage is\", (g_c/len(nucl))*100,\"%\")"
   ]
  },
  {
   "cell_type": "code",
   "execution_count": 36,
   "metadata": {},
   "outputs": [
    {
     "name": "stdout",
     "output_type": "stream",
     "text": [
      "The number of purines present are : 9\n",
      "The number of pyrimidines present are : 4\n",
      "The percentage of purines present is  69.23 %\n"
     ]
    }
   ],
   "source": [
    "##Purine Content\n",
    "a_g=a+g\n",
    "t_c=t+c\n",
    "print(\"The number of purines present are :\",a_g)\n",
    "print(\"The number of pyrimidines present are :\",t_c)\n",
    "k=(a_g/len(nucl))*100\n",
    "print(\"The percentage of purines present is \",round(k,2),\"%\")"
   ]
  },
  {
   "cell_type": "code",
   "execution_count": 42,
   "metadata": {},
   "outputs": [
    {
     "data": {
      "text/plain": [
       "'ATGCTTACAAAAATTTTTTTTTGGGGGCCCCCTAATTGTTAATTTCCCGAAATGCTTACGGGAATTGCCATAT'"
      ]
     },
     "execution_count": 42,
     "metadata": {},
     "output_type": "execute_result"
    }
   ],
   "source": [
    "### Assessing the elements of a sequences \n",
    "nucl[len(nucl)-1]\n",
    "dna[len(dna)-1]\n",
    "dna[1:6:2]\n",
    "dna[:]\n"
   ]
  },
  {
   "cell_type": "code",
   "execution_count": 46,
   "metadata": {},
   "outputs": [
    {
     "name": "stdout",
     "output_type": "stream",
     "text": [
      "['A', 'T', 'C', 'G', 'A']\n",
      "5\n"
     ]
    }
   ],
   "source": [
    "subsequences=[\"TTA\",\"GCTAAG\",\"GATTA\"]\n",
    "string=\"ATCGA\"\n",
    "\n",
    "#convert string to list\n",
    "stringtolist=list(string)\n",
    "print(stringtolist)\n",
    "print(len(stringtolist))"
   ]
  },
  {
   "cell_type": "code",
   "execution_count": 52,
   "metadata": {},
   "outputs": [
    {
     "data": {
      "text/plain": [
       "['TTAGC', 'TGA', 'TGA', 'A', 'T', 'C', 'G', 'A', 'TGA', 'TGA', 'TGA', 'TTAGC']"
      ]
     },
     "execution_count": 52,
     "metadata": {},
     "output_type": "execute_result"
    }
   ],
   "source": [
    "stringtolist.append('TGA')\n",
    "stringtolist.reverse()\n",
    "stringtolist.insert(0,'TTAGC')\n",
    "stringtolist"
   ]
  },
  {
   "cell_type": "code",
   "execution_count": 54,
   "metadata": {},
   "outputs": [
    {
     "data": {
      "text/plain": [
       "'TTAGCTGATGAATCGATGATGATGATTAGC'"
      ]
     },
     "execution_count": 54,
     "metadata": {},
     "output_type": "execute_result"
    }
   ],
   "source": [
    "new_string=\"\".join(stringtolist)\n",
    "new_string"
   ]
  },
  {
   "cell_type": "code",
   "execution_count": 3,
   "metadata": {},
   "outputs": [],
   "source": [
    "import numpy"
   ]
  },
  {
   "cell_type": "code",
   "execution_count": 2,
   "metadata": {},
   "outputs": [],
   "source": [
    "import glob\n",
    "from Bio import SeqIO\n",
    "from collections import Counter\n",
    "import pandas as pd\n",
    "import os"
   ]
  },
  {
   "cell_type": "code",
   "execution_count": 7,
   "metadata": {},
   "outputs": [
    {
     "name": "stdout",
     "output_type": "stream",
     "text": [
      "['C:/Users/HP/Desktop/Bioinformatics/genbank\\\\sequence (1).gb', 'C:/Users/HP/Desktop/Bioinformatics/genbank\\\\sequence.gb']\n"
     ]
    }
   ],
   "source": [
    "folder=\"C:/Users/HP/Desktop/Bioinformatics/genbank\"\n",
    "gfiles=glob.glob(\"%s/*.gb\"%folder)\n",
    "print(gfiles)\n"
   ]
  },
  {
   "cell_type": "code",
   "execution_count": 10,
   "metadata": {},
   "outputs": [
    {
     "name": "stdout",
     "output_type": "stream",
     "text": [
      "2\n"
     ]
    },
    {
     "data": {
      "text/plain": [
       "'C:/Users/HP/Desktop/Bioinformatics/genbank\\\\sequence (1).gb'"
      ]
     },
     "execution_count": 10,
     "metadata": {},
     "output_type": "execute_result"
    }
   ],
   "source": [
    "print(len(gfiles))\n",
    "gfiles[0]"
   ]
  },
  {
   "cell_type": "markdown",
   "metadata": {},
   "source": []
  },
  {
   "cell_type": "markdown",
   "metadata": {},
   "source": [
    "### Creating a function for the genbank files"
   ]
  },
  {
   "cell_type": "code",
   "execution_count": null,
   "metadata": {},
   "outputs": [],
   "source": [
    "def count_features(gfiles):\n",
    "    #reading the files \n",
    "    genbank_object=SeqIO.read(gfiles,\"gb\")\n",
    "    features=genbank_object.features\n",
    "    feature_types=[feature.type for feature in features]\n",
    "    feature_count=Counter(feature_types)\n",
    "    print(\"Features have been counted\")\n",
    "    dataframe=pd.DataFrame(feature_count.items(),columns=['Feature','Count'])\n",
    "    directory,filename=os.path.split(gfiles)\n",
    "    filename=filename.strip('.gb')\n",
    "    basedir='C:/Users/HP/Desktop/Bioinformatics/genbank'\n",
    "    outputfile='%s/%s.csv'%(basedir,filename)\n",
    "    dataframe.to_csv(outputfile,index=False)\n",
    "    print('Count data has been saved')"
   ]
  }
 ],
 "metadata": {
  "kernelspec": {
   "display_name": "Python 3.7.11 ('django2')",
   "language": "python",
   "name": "python3"
  },
  "language_info": {
   "codemirror_mode": {
    "name": "ipython",
    "version": 3
   },
   "file_extension": ".py",
   "mimetype": "text/x-python",
   "name": "python",
   "nbconvert_exporter": "python",
   "pygments_lexer": "ipython3",
   "version": "3.7.11"
  },
  "orig_nbformat": 4,
  "vscode": {
   "interpreter": {
    "hash": "29a6ce951ee920c92b51fb2b0884e1ad9f15db4d8c37127791fd878d2d77f709"
   }
  }
 },
 "nbformat": 4,
 "nbformat_minor": 2
}
